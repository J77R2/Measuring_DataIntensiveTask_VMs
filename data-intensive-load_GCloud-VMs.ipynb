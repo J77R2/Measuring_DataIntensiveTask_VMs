{
 "cells": [
  {
   "cell_type": "markdown",
   "metadata": {},
   "source": [
    "# Big Data Management and Processing Assignment "
   ]
  },
  {
   "cell_type": "markdown",
   "metadata": {},
   "source": [
    "## In this excercise, the idea is to _\"Setup a number of VMs of different size (i.e., 1, 2, 4, 8 GBs of RAM) and run a data intensive load (e.g. external sorting) and measure its effects on the performance of the VM using suitable measures\"._ \n",
    "\n",
    "## The rest of the document is comprised of two segments; the first one is how we enable access to a VM using Google Cloud, and how we use SSH connection so that we perform all commands from the Web SSH Browser (without having to connect to the VMs using RDP). The second segment is the data-intensive functions. \n",
    "\n",
    "## The final goal of the excercise is to evaluate how VMs with different characteristics, such as RAM capacity, respond to the data-intensive task. "
   ]
  },
  {
   "cell_type": "markdown",
   "metadata": {},
   "source": [
    "### **Segment-1: Interaction with the VMs via Google Cloud**"
   ]
  },
  {
   "cell_type": "code",
   "execution_count": null,
   "metadata": {},
   "outputs": [],
   "source": [
    "# First thing is to create an instance for the VM. We use a debian boot disk\n",
    "# and machine type of our preference. After creating, we click the SSH connection \n",
    "# and \"Authorize\". Once the terminal is open, we perform the following commands\n",
    "# for package and environment update as well as we download python and install \n",
    "# a few packages useful for the data-intensive task that's coming next.  \n",
    "\n",
    "sudo apt update\n",
    "sudo apt install python3\n",
    "\n",
    "sudo apt install python3-pip\n",
    "sudo apt-get install python3-pip python-dev\n",
    "sudo apt-get install sysstat  # On Debian/Ubuntu\n",
    "\n",
    "# to measure the disk performance I use the following command\n",
    "# which takes snapshots of the disk for the specified seconds \n",
    "# we allow (30 in my case)\n",
    "sar -d 1 30\n",
    "\n",
    "\n",
    "\n",
    "ssh-keygen -t rsa -f ~/.ssh/<key_name> -C <username> -b 2048\n",
    "# <key_name> a name you choose and could be and email for \n",
    "# the <username>\n",
    "\n",
    "ssh-keygen -t rsa -f ~/.ssh/<key_name> -C <username> -b 2048\n",
    "\n",
    "\n",
    "# We change directory to \n",
    "cd \".ssh\" # 2 files exist (1) <key_name> .username (2) <key_name>.pub\n",
    "\n",
    "\n",
    "# open <key_name>.pub\n",
    "cat <key_name>.pub\n",
    "\n",
    "# Then we do to GCloud VMs and we select the instance of the VM.\n",
    "# We go to edit and to the SSH keys and click Add item and paste the\n",
    "# RSA key copied in the terminal \n",
    "\n",
    "# Then, we start installing python packages in cmd\n",
    "pip3 install numpy matplotlib\n",
    "pip3 install pandas\n",
    "pip3 install xsorted\n",
    "\n",
    "import pandas as pd\n",
    "import random\n",
    "import time\n",
    "from functools import reduce\n",
    "from time import time\n",
    "import os, sys, csv, time\n",
    "from xsorted import xsorted, xsorter\n",
    "\n",
    "\n",
    "\n",
    "\n",
    "\n",
    "\n"
   ]
  },
  {
   "cell_type": "markdown",
   "metadata": {},
   "source": [
    "### **Segment-2: Data-intensive task**\n"
   ]
  },
  {
   "cell_type": "markdown",
   "metadata": {},
   "source": [
    "- The idea is simple. We create datasets with random information inside and we time how long it takes for the output to be generated as well as we evaluate the performance of the VMs. "
   ]
  },
  {
   "cell_type": "code",
   "execution_count": 31,
   "metadata": {},
   "outputs": [],
   "source": [
    "# setting the number of generated datasets for the excercise here\n",
    "xx = 7"
   ]
  },
  {
   "cell_type": "code",
   "execution_count": 16,
   "metadata": {},
   "outputs": [],
   "source": [
    "import random\n",
    "import time\n",
    "import string\n",
    "\n",
    "def data_generator(datapoints):\n",
    "    # each datapoint has a userid, a score, a rank, and few random letters (i.e. could be a text)\n",
    "    dataset = []\n",
    "    for i in range(datapoints):\n",
    "        userid = 'user' + str(i)\n",
    "        score = random.randint(1, 100000)\n",
    "        rank  = random.randint(1,100000000)\n",
    "        random_letter = ''.join(random.choices(string.ascii_letters, k=50))        \n",
    "        dataset.append((userid, score, rank, random_letter ))        \n",
    "    random.shuffle(dataset)\n",
    "    return dataset"
   ]
  },
  {
   "cell_type": "code",
   "execution_count": 32,
   "metadata": {},
   "outputs": [
    {
     "data": {
      "text/plain": [
       "[('user0',\n",
       "  65221,\n",
       "  46297419,\n",
       "  'gCxKSeMNPjJAIbHLMqEDysChZomXJPGodgFqXPUVEbqTsjVgLb'),\n",
       " ('user1',\n",
       "  7573,\n",
       "  46883397,\n",
       "  'HVgkXDZauQgteqzqPmTBoOHNNwUKbvoYrZzANMqunnclPlmyzK'),\n",
       " ('user4',\n",
       "  29715,\n",
       "  75543355,\n",
       "  'tZnzxBvMrzDvBGLqjDgaJhBSIpJbIcmajuEHYHqbxaZBwkzPDw'),\n",
       " ('user3',\n",
       "  40940,\n",
       "  71080787,\n",
       "  'dUNcOYVsORhEKpOzOEaMPXdFoOfnFUyiZvgWcELxHODPhnNxrB'),\n",
       " ('user6',\n",
       "  96095,\n",
       "  18319610,\n",
       "  'ZkyjTtqZvRNidalkqwIUJdIFuiATtbwvyerhvDutrBFdMclmJH'),\n",
       " ('user2',\n",
       "  32824,\n",
       "  14096655,\n",
       "  'iiBNxEmaDfynjVULxxkqfXrLbAzlswbQTOOfzSAtGGnSNgcvzS'),\n",
       " ('user5',\n",
       "  17022,\n",
       "  91491800,\n",
       "  'OTTqsvIpZWJmFSiFrjKuhQdQIDaRrwfZVZneXQAbAJSQzDbaMG')]"
      ]
     },
     "execution_count": 32,
     "metadata": {},
     "output_type": "execute_result"
    }
   ],
   "source": [
    "# we check the output \n",
    "data_generator(xx)"
   ]
  },
  {
   "cell_type": "code",
   "execution_count": 18,
   "metadata": {},
   "outputs": [],
   "source": [
    "# using the data_generator function, we proceed by generating \n",
    "# the datasets in current directory \n",
    "\n",
    "import os, sys, csv, time\n",
    "def generate_datasets(exp):\n",
    "    for i in range(exp):\n",
    "        dataset_list = data_generator(10**(i+1))\n",
    "        print('finished d')\n",
    "        fname = 'dataset_exp_' + str(i+1) + '.csv'\n",
    "        print(f'The name of the file is {fname}')\n",
    "        with open(fname, 'w') as unsorted_f:\n",
    "            writer = csv.writer(unsorted_f)\n",
    "            for item in dataset_list:\n",
    "                writer.writerow(item)"
   ]
  },
  {
   "cell_type": "code",
   "execution_count": 33,
   "metadata": {},
   "outputs": [
    {
     "name": "stdout",
     "output_type": "stream",
     "text": [
      "finished d\n",
      "The name of the file is dataset_exp_1.csv\n",
      "finished d\n",
      "The name of the file is dataset_exp_2.csv\n",
      "finished d\n",
      "The name of the file is dataset_exp_3.csv\n",
      "finished d\n",
      "The name of the file is dataset_exp_4.csv\n",
      "finished d\n",
      "The name of the file is dataset_exp_5.csv\n",
      "finished d\n",
      "The name of the file is dataset_exp_6.csv\n",
      "finished d\n",
      "The name of the file is dataset_exp_7.csv\n"
     ]
    }
   ],
   "source": [
    "generate_datasets(xx)"
   ]
  },
  {
   "cell_type": "code",
   "execution_count": 27,
   "metadata": {},
   "outputs": [],
   "source": [
    "# Function to external sort and save the document generated above\n",
    "# while timing the results.The idea is that it reads and writes \n",
    "# the file in disk so that to reduce the capacity needed for the CPU \n",
    "# to perform its operations. Trade-off between CPU and Disk operations.\n",
    "\n",
    "from xsorted import xsorted, xsorter\n",
    "def xsort_bench(exp=1):\n",
    "    timings = []\n",
    "    for i in range(exp):\n",
    "        tstart = time.time()\n",
    "        fname =  'dataset_exp_' + str(i+1) + '.csv'\n",
    "        xsorted_custom = xsorter(partition_size=100000)\n",
    "        with open(fname, 'r') as unsorted_f, open((fname) , 'w') as sorted_f:\n",
    "            reader = csv.reader(unsorted_f)\n",
    "            items = xsorted_custom(reader, key=lambda x: int(x[1]))\n",
    "            writer = csv.writer(sorted_f)\n",
    "            for item in items:\n",
    "                writer.writerow(item)\n",
    "        tend = time.time()\n",
    "        timings.append(((i+1),tend-tstart))\n",
    "    return timings"
   ]
  },
  {
   "cell_type": "code",
   "execution_count": 34,
   "metadata": {},
   "outputs": [
    {
     "data": {
      "text/plain": [
       "[(1, 1.13700270652771),\n",
       " (2, 1.2117407321929932),\n",
       " (3, 0.9490773677825928),\n",
       " (4, 1.0137746334075928),\n",
       " (5, 1.035592794418335),\n",
       " (6, 1.02134370803833),\n",
       " (7, 1.1238207817077637)]"
      ]
     },
     "execution_count": 34,
     "metadata": {},
     "output_type": "execute_result"
    }
   ],
   "source": [
    "timings = xsort_bench(xx)\n",
    "timings"
   ]
  },
  {
   "cell_type": "code",
   "execution_count": 30,
   "metadata": {},
   "outputs": [
    {
     "data": {
      "image/png": "[encoded data removed]",
      "text/plain": [
       "<Figure size 432x288 with 1 Axes>"
      ]
     },
     "metadata": {
      "needs_background": "light"
     },
     "output_type": "display_data"
    }
   ],
   "source": [
    "# we plot the results if we wish (this plotting is not done \n",
    "# in the terminal of the VM)\n",
    "\n",
    "import pandas as pd\n",
    "import matplotlib.pyplot as plt\n",
    "\n",
    "df = pd.DataFrame(timings, columns = ['exp', 'time'])\n",
    "\n",
    "df.plot.line(x='exp',y='time')\n",
    "plt.ylabel('Time(s)')\n",
    "plt.xlabel('Exponents of 10')\n",
    "plt.xticks(range(1,10))\n",
    "plt.show()\n"
   ]
  },
  {
   "cell_type": "code",
   "execution_count": 4,
   "metadata": {},
   "outputs": [],
   "source": [
    "# here we just re-create from the timings output the array in order\n",
    "# to plot it next.\n",
    "import numpy  as np \n",
    "mt_8 = np.array([(1, 0.2285459041595459), (2, 0.22733402252197266), (3, 0.22328853607177734), (4, 0.22285103797912598), (5, 0.22493815422058105), (6, 0.2387678623199463)])\n",
    "\n",
    "mt_2 = np.array([(1, 0.23144366), (2, 0.2265224456), (3, 0.22883009910), (4, 0.22522902), (5, 0.232404470443), (6, 0.2383346557)])"
   ]
  },
  {
   "cell_type": "code",
   "execution_count": 19,
   "metadata": {},
   "outputs": [
    {
     "data": {
      "image/png": "[encoded data removed]",
      "text/plain": [
       "<Figure size 864x432 with 1 Axes>"
      ]
     },
     "metadata": {
      "needs_background": "light"
     },
     "output_type": "display_data"
    }
   ],
   "source": [
    "import pandas as pd\n",
    "import matplotlib.pyplot as plt\n",
    "\n",
    "fig, ax = plt.subplots(figsize = (12,6))\n",
    "\n",
    "\n",
    "\n",
    "df_8 = pd.DataFrame(mt_8, columns = ['exp', 'time'])\n",
    "df_2 = pd.DataFrame(mt_2, columns = ['exp', 'time'])\n",
    "\n",
    "ax.plot(df_8['exp'], df_8['time'], label = 'Machine Type with 8GB RAM', color = 'black')\n",
    "ax.plot(df_2['exp'], df_2['time'], label = 'Machine Type with 2GB RAM', color = 'red')\n",
    "\n",
    "\n",
    "ax.set_xlabel('Exp')\n",
    "ax.set_ylabel('time')\n",
    "ax.set_title(\"Comparing 2GB and 8GB in a Data-Intensive Task\")\n",
    "ax.legend()\n",
    "plt.show()"
   ]
  }
 ],
 "metadata": {
  "kernelspec": {
   "display_name": "Python 3",
   "language": "python",
   "name": "python3"
  },
  "language_info": {
   "codemirror_mode": {
    "name": "ipython",
    "version": 3
   },
   "file_extension": ".py",
   "mimetype": "text/x-python",
   "name": "python",
   "nbconvert_exporter": "python",
   "pygments_lexer": "ipython3",
   "version": "3.8.2"
  }
 },
 "nbformat": 4,
 "nbformat_minor": 2
}
